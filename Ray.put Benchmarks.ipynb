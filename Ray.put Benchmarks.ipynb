{
 "cells": [
  {
   "cell_type": "markdown",
   "metadata": {},
   "source": [
    "## Benchmarking Ray.put calls"
   ]
  },
  {
   "cell_type": "code",
   "execution_count": 1,
   "metadata": {},
   "outputs": [
    {
     "name": "stdout",
     "output_type": "stream",
     "text": [
      "Waiting for redis server at 127.0.0.1:45901 to respond...\n",
      "Waiting for redis server at 127.0.0.1:24668 to respond...\n",
      "Starting local scheduler with the following resources: {'GPU': 0, 'CPU': 4}.\n",
      "\n",
      "======================================================================\n",
      "View the web UI at http://localhost:8890/notebooks/ray_ui73273.ipynb?token=f11617d6208e00ba2755c56d753a43eb6bb185c92115f24e\n",
      "======================================================================\n",
      "\n"
     ]
    },
    {
     "data": {
      "text/plain": [
       "{'local_scheduler_socket_names': ['/tmp/scheduler89809200'],\n",
       " 'node_ip_address': '127.0.0.1',\n",
       " 'object_store_addresses': [ObjectStoreAddress(name='/tmp/plasma_store41608887', manager_name='/tmp/plasma_manager44539453', manager_port=32897)],\n",
       " 'redis_address': '127.0.0.1:45901',\n",
       " 'webui_url': 'http://localhost:8890/notebooks/ray_ui73273.ipynb?token=f11617d6208e00ba2755c56d753a43eb6bb185c92115f24e'}"
      ]
     },
     "execution_count": 1,
     "metadata": {},
     "output_type": "execute_result"
    }
   ],
   "source": [
    "import ray\n",
    "import numpy as np\n",
    "import random\n",
    "import string\n",
    "import timeit\n",
    "import time\n",
    "\n",
    "ray.init()"
   ]
  },
  {
   "cell_type": "code",
   "execution_count": 2,
   "metadata": {
    "collapsed": true
   },
   "outputs": [],
   "source": [
    "# Create 20 Million Random Strings of length 20\n",
    "NUM_STRINGS = 2*10**7\n",
    "STRING_LENGTH = 100\n",
    "\n",
    "d = []\n",
    "for i in range(NUM_STRINGS):\n",
    "    d.append(''.join(random.choice(string.ascii_letters) for _ in range(20)))"
   ]
  },
  {
   "cell_type": "code",
   "execution_count": 3,
   "metadata": {},
   "outputs": [
    {
     "name": "stdout",
     "output_type": "stream",
     "text": [
      "Size of data: 157 MB\n"
     ]
    }
   ],
   "source": [
    "import sys\n",
    "print(\"Size of data: \" + str(sys.getsizeof(d)/1024/1024) + \" MB\")"
   ]
  },
  {
   "cell_type": "code",
   "execution_count": 4,
   "metadata": {
    "collapsed": true
   },
   "outputs": [],
   "source": [
    "partitions_to_wall_time = {}\n",
    "d = np.array(d)\n",
    "partitions_to_try = [1, 10, 100, 1000, 5000, 10000, 50000, 100000]\n",
    "\n",
    "for i in partitions_to_try + partitions_to_try[::-1]:\n",
    "    x = np.array_split(d, i)\n",
    "    t_start = time.time()\n",
    "    ray.wait([ray.put(k) for k in x], len(x))\n",
    "    t_end = time.time()\n",
    "    if i not in partitions_to_wall_time:\n",
    "        partitions_to_wall_time[i] = []\n",
    "    partitions_to_wall_time[i].append(t_end - t_start)"
   ]
  },
  {
   "cell_type": "code",
   "execution_count": 5,
   "metadata": {},
   "outputs": [
    {
     "data": {
      "image/png": "[encoded data removed]",
      "text/plain": [
       "<matplotlib.figure.Figure at 0x1672142d0>"
      ]
     },
     "metadata": {},
     "output_type": "display_data"
    }
   ],
   "source": [
    "import matplotlib.pyplot as plt\n",
    "keys = partitions_to_wall_time.keys()\n",
    "values = [np.mean(partitions_to_wall_time[k]) for k in keys]\n",
    "plt.plot(keys, values, 'x')\n",
    "plt.title('Number of Data Partitions vs Time to Put All into Ray')\n",
    "plt.xlabel('Number of Partitions')\n",
    "plt.ylabel('Time (s)')\n",
    "plt.xscale('log')\n",
    "plt.show()"
   ]
  },
  {
   "cell_type": "code",
   "execution_count": null,
   "metadata": {
    "collapsed": true
   },
   "outputs": [],
   "source": []
  }
 ],
 "metadata": {
  "kernelspec": {
   "display_name": "Python 3",
   "language": "python",
   "name": "python3"
  },
  "language_info": {
   "codemirror_mode": {
    "name": "ipython",
    "version": 2
   },
   "file_extension": ".py",
   "mimetype": "text/x-python",
   "name": "python",
   "nbconvert_exporter": "python",
   "pygments_lexer": "ipython2",
   "version": "2.7.14"
  }
 },
 "nbformat": 4,
 "nbformat_minor": 2
}
